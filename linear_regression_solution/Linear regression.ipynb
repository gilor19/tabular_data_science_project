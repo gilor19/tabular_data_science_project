{
 "cells": [
  {
   "cell_type": "code",
   "execution_count": 32,
   "id": "2bf3dfe2",
   "metadata": {},
   "outputs": [],
   "source": [
    "import numpy as np\n",
    "import pandas as pd\n",
    "import matplotlib.pyplot as plt\n",
    "from sklearn.linear_model import LinearRegression\n",
    "import random\n",
    "from statsmodels.distributions.empirical_distribution import ECDF\n",
    "from scipy.stats import pearsonr\n"
   ]
  },
  {
   "cell_type": "markdown",
   "id": "776ffb23",
   "metadata": {},
   "source": [
    "- for each column that we check we transform it to dummies and call it X\n",
    "\n",
    "- We train X on target y (the original target in the users df)\n",
    "\n",
    "- we take the beta coefficients and run a LM that Y are the coef and X is the ORDER in the original X (we get a new coefficient a slope from the coefficient and call it B)\n",
    "\n",
    "- in the bootsramp experiment:\n",
    "    - for i in 1000: \n",
    "          sample a random order for the ORDER of the original X\n",
    "          run a regression of that x on the coefficients from the prev step.\n",
    "          save beta_i to a list\n",
    "      \n",
    "    - see where B falls in the beta distribution.\n",
    "\n",
    "\n",
    "- in the pearson corr experiment:\n",
    "    -check the spearman corr between the ORDER and the coefficients\n",
    "\n",
    "\n",
    "- ROC curve between the models."
   ]
  },
  {
   "cell_type": "code",
   "execution_count": 11,
   "id": "2648fa30",
   "metadata": {},
   "outputs": [],
   "source": [
    "def find_numeric_columns_to_check(df, nunique_th):\n",
    "    numeric_df = df.select_dtypes(include=[np.number])\n",
    "    under_th_df = numeric_df.loc[:, numeric_df.nunique() < nunique_th]\n",
    "    only_int_df = under_th_df.loc[:, (under_th_df.fillna(-9999) % 1 == 0).all()]\n",
    "    more_than_two_values = only_int_df.loc[:, only_int_df.nunique() > 2]\n",
    "    return list(more_than_two_values.columns)\n"
   ]
  },
  {
   "cell_type": "code",
   "execution_count": 12,
   "id": "b9c06989",
   "metadata": {},
   "outputs": [],
   "source": [
    "def get_dummies(columns):\n",
    "    dummies = {}\n",
    "    for column in columns:\n",
    "        dummy_variable = pd.get_dummies(data[column])\n",
    "        prefix = f\"{column}_\"\n",
    "        dummy_variable = dummy_variable.add_prefix(prefix)\n",
    "        dummies[column] = dummy_variable\n",
    "        data[dummy_variable.columns] = dummy_variable\n",
    "    return dummies"
   ]
  },
  {
   "cell_type": "code",
   "execution_count": 45,
   "id": "78057e09",
   "metadata": {},
   "outputs": [],
   "source": [
    "data_folder = \"/home/dani/Desktop/school/tabular_data_science_project_gil/tabular_data_science_project/datasets/converted_datasets\"\n"
   ]
  },
  {
   "cell_type": "markdown",
   "id": "6d82b067",
   "metadata": {},
   "source": [
    "# adult  "
   ]
  },
  {
   "cell_type": "code",
   "execution_count": 64,
   "id": "18791fc3",
   "metadata": {},
   "outputs": [],
   "source": [
    "data = pd.read_csv(f'{data_folder}/adult_converted.csv')\n",
    "target = 'income'"
   ]
  },
  {
   "cell_type": "markdown",
   "id": "4a183b5a",
   "metadata": {},
   "source": [
    "# spotify"
   ]
  },
  {
   "cell_type": "code",
   "execution_count": 69,
   "id": "760f485b",
   "metadata": {},
   "outputs": [
    {
     "name": "stderr",
     "output_type": "stream",
     "text": [
      "/home/dani/.local/lib/python3.7/site-packages/IPython/core/interactiveshell.py:3444: DtypeWarning: Columns (18) have mixed types.Specify dtype option on import or set low_memory=False.\n",
      "  exec(code_obj, self.user_global_ns, self.user_ns)\n"
     ]
    }
   ],
   "source": [
    "data = pd.read_csv(f'{data_folder}/spotify_converted.csv')\n",
    "target = 'mode'"
   ]
  },
  {
   "cell_type": "markdown",
   "id": "0fd5ec88",
   "metadata": {},
   "source": [
    "# Titanic"
   ]
  },
  {
   "cell_type": "code",
   "execution_count": 73,
   "id": "9ed16e79",
   "metadata": {},
   "outputs": [],
   "source": [
    "data = pd.read_csv(f'{data_folder}/video_games_sales_converted.csv')\n",
    "target = 'Global_Sales'"
   ]
  },
  {
   "cell_type": "markdown",
   "id": "cfd4819d",
   "metadata": {},
   "source": [
    "# Video games"
   ]
  },
  {
   "cell_type": "code",
   "execution_count": 77,
   "id": "b0c89157",
   "metadata": {},
   "outputs": [],
   "source": [
    "data = pd.read_csv(f'{data_folder}/titanic_converted.csv')\n",
    "target = 'Survived'"
   ]
  },
  {
   "cell_type": "markdown",
   "id": "94d68227",
   "metadata": {},
   "source": [
    "# get dummies"
   ]
  },
  {
   "cell_type": "code",
   "execution_count": 78,
   "id": "c92098a5",
   "metadata": {},
   "outputs": [],
   "source": [
    "columns_to_check = find_numeric_columns_to_check(data, 50)\n",
    "data = data.select_dtypes(exclude=['object'])\n",
    "data = data.dropna()\n",
    "y = data[target]\n",
    "dummies = get_dummies(columns_to_check)"
   ]
  },
  {
   "cell_type": "markdown",
   "id": "779d992a",
   "metadata": {},
   "source": [
    "# bootstramp experiment"
   ]
  },
  {
   "cell_type": "code",
   "execution_count": 79,
   "id": "052dc6ef",
   "metadata": {},
   "outputs": [
    {
     "name": "stdout",
     "output_type": "stream",
     "text": [
      "The probability of sampling a value greater than or equal to -0.19531249999999992 is 0.841\n",
      "Pclass is Nominal\n",
      "The probability of sampling a value greater than or equal to -0.08314732142857142 is 0.981\n",
      "SibSp is Nominal\n",
      "The probability of sampling a value greater than or equal to -0.08175223214285712 is 0.951\n",
      "Parch is Nominal\n",
      "The probability of sampling a value greater than or equal to -0.22231445312499998 is 0.929\n",
      "Embarked is Nominal\n"
     ]
    }
   ],
   "source": [
    "for col_name in dummies:\n",
    "    X = dummies[col_name]\n",
    "    original_column = data[col_name]\n",
    "    model = LinearRegression().fit(X, y)\n",
    "    coefs = model.coef_\n",
    "    order = sorted(original_column.unique().reshape(-1, 1))\n",
    "    B = LinearRegression().fit(order, coefs).coef_\n",
    "    hist = []\n",
    "    for i in range(1000):\n",
    "        random.shuffle(order)\n",
    "        beta_i = LinearRegression().fit(order, coefs).coef_\n",
    "        hist.append(beta_i)\n",
    "    hist = [float(arr) for arr in hist]\n",
    "    ecdf = ECDF(hist)\n",
    "    prob = 1 - ecdf(B)\n",
    "    print(f\"The probability of sampling a value greater than or equal to {float(B)} is {float(prob)}\")\n",
    "    if prob < 0.05:\n",
    "        print(f\"{col_name} is Ordinal\")\n",
    "    else:\n",
    "        print(f\"{col_name} is Nominal\")"
   ]
  },
  {
   "cell_type": "markdown",
   "id": "2adb1b72",
   "metadata": {},
   "source": [
    "# pearson experiment"
   ]
  },
  {
   "cell_type": "code",
   "execution_count": 80,
   "id": "5dcd6589",
   "metadata": {},
   "outputs": [
    {
     "name": "stdout",
     "output_type": "stream",
     "text": [
      "spearman r: -0.9867313369649982, Pclass is Ordinal\n",
      "spearman r: -0.8114091663843725, SibSp is Ordinal\n",
      "spearman r: -0.6908533033732353, Parch is Ordinal\n",
      "spearman r: -0.888457306197265, Embarked is Ordinal\n",
      "\n"
     ]
    },
    {
     "name": "stderr",
     "output_type": "stream",
     "text": [
      "/home/dani/.local/lib/python3.7/site-packages/scipy/stats/stats.py:4053: PearsonRNearConstantInputWarning: An input array is nearly constant; the computed correlation coefficient may be inaccurate.\n",
      "  warnings.warn(PearsonRNearConstantInputWarning())\n",
      "/home/dani/.local/lib/python3.7/site-packages/scipy/stats/stats.py:4053: PearsonRNearConstantInputWarning: An input array is nearly constant; the computed correlation coefficient may be inaccurate.\n",
      "  warnings.warn(PearsonRNearConstantInputWarning())\n",
      "/home/dani/.local/lib/python3.7/site-packages/scipy/stats/stats.py:4053: PearsonRNearConstantInputWarning: An input array is nearly constant; the computed correlation coefficient may be inaccurate.\n",
      "  warnings.warn(PearsonRNearConstantInputWarning())\n"
     ]
    }
   ],
   "source": [
    "for col_name in dummies:\n",
    "    X = dummies[col_name]\n",
    "    original_column = data[col_name]\n",
    "    model = LinearRegression().fit(X, y)\n",
    "    coefs = model.coef_\n",
    "    order = sorted(original_column.unique())\n",
    "    corr, _ = pearsonr(order, coefs)\n",
    "    if abs(corr) >= 0.5:\n",
    "        print(f\"spearman r: {corr}, {col_name} is Ordinal\")\n",
    "    else:\n",
    "        print(f\"spearman r: {corr}, {col_name} is Nominal\")\n",
    "print()"
   ]
  },
  {
   "cell_type": "raw",
   "id": "303cf699",
   "metadata": {},
   "source": [
    "results:\n",
    "    \n",
    "- adult:\n",
    "\n",
    "    - bootstrap:\n",
    "        education is Ordinal\n",
    "        educational-num is Ordinal\n",
    "        workclass is Nominal\n",
    "        marital-status is Nominal\n",
    "        occupation is Nominal\n",
    "        native-country is Nominal\n",
    "        relationship is Nominal\n",
    "        \n",
    "     - spearman:\n",
    "        spearman r: 0.7691485692651183, education is Ordinal\n",
    "        spearman r: 0.8916583907844623, educational-num is Ordinal\n",
    "        spearman r: 0.044068615841783884, workclass is Nominal\n",
    "        spearman r: -0.4918430926290024, marital-status is Nominal\n",
    "        spearman r: 0.1622925793810139, occupation is Nominal\n",
    "        spearman r: -0.1457533471705437, native-country is Nominal\n",
    "        spearman r: 0.3372828459871347, relationship is Nominal\n",
    "         \n",
    "\n"
   ]
  },
  {
   "cell_type": "raw",
   "id": "bd1b231c",
   "metadata": {},
   "source": [
    "- spotify:\n",
    "\n",
    "    - bootstrap:\n",
    "        key is Nominal\n",
    "        time_signature is Nominal\n",
    "        genre is Nominal\n",
    "        \n",
    "     - pearson:\n",
    "        spearman r: -0.4556474022061972, key is Nominal\n",
    "        spearman r: -0.9309225570399535, time_signature is Ordinal\n",
    "        spearman r: -0.19600959028269235, genre is Nominal"
   ]
  },
  {
   "cell_type": "raw",
   "id": "d2b92a9b",
   "metadata": {},
   "source": [
    "- titanic:\n",
    "\n",
    "    - bootstrap:\n",
    "        Year_of_Release is Nominal\n",
    "        Platform is Nominal\n",
    "        Genre is Nominal\n",
    "        \n",
    "     - pearson:\n",
    "        spearman r: -0.2587061053783715, Year_of_Release is Nominal\n",
    "        spearman r: -0.0062870853149246675, Platform is Nominal\n",
    "        spearman r: -0.48024172349458993, Genre is Nominal\n"
   ]
  },
  {
   "cell_type": "raw",
   "id": "d60fd701",
   "metadata": {},
   "source": [
    "- video:\n",
    "\n",
    "    - bootstrap:\n",
    "        Pclass is Nominal\n",
    "        SibSp is Nominal\n",
    "        Parch is Nominal\n",
    "        Embarked is Nominal\n",
    "        \n",
    "     - pearson:\n",
    "        spearman r: -0.9867313369649982, Pclass is Ordinal\n",
    "        spearman r: -0.8114091663843725, SibSp is Ordinal\n",
    "        spearman r: -0.6908533033732353, Parch is Ordinal\n",
    "        spearman r: -0.888457306197265, Embarked is Ordinal"
   ]
  }
 ],
 "metadata": {
  "kernelspec": {
   "display_name": "Python 3 (ipykernel)",
   "language": "python",
   "name": "python3"
  },
  "language_info": {
   "codemirror_mode": {
    "name": "ipython",
    "version": 3
   },
   "file_extension": ".py",
   "mimetype": "text/x-python",
   "name": "python",
   "nbconvert_exporter": "python",
   "pygments_lexer": "ipython3",
   "version": "3.7.8"
  }
 },
 "nbformat": 4,
 "nbformat_minor": 5
}
