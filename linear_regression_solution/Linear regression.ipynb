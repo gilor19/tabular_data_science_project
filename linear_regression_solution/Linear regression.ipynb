{
 "cells": [
  {
   "cell_type": "markdown",
   "id": "967ce2b6",
   "metadata": {},
   "source": [
    "# Linear Regression Alternative Solution "
   ]
  },
  {
   "cell_type": "code",
   "execution_count": 83,
   "id": "2bf3dfe2",
   "metadata": {},
   "outputs": [],
   "source": [
    "import numpy as np\n",
    "import pandas as pd\n",
    "import matplotlib.pyplot as plt\n",
    "from sklearn.linear_model import LinearRegression\n",
    "import random\n",
    "from statsmodels.distributions.empirical_distribution import ECDF\n",
    "from scipy.stats import pearsonr\n",
    "import warnings\n",
    "warnings.filterwarnings(\"ignore\")"
   ]
  },
  {
   "cell_type": "markdown",
   "id": "776ffb23",
   "metadata": {},
   "source": [
    "### Solution Details:\n",
    "- We detected columns to check by searching numeric columns with less than 50 unique INT values (same as in the final solution).\n",
    "\n",
    "- For each column that we check we transform it to dummies and call it X.\n",
    "\n",
    "- We train X on target y (the original target in the users df).\n",
    "\n",
    "- We then extract the beta coefficients and check the spearman correlation between the order of the coefficients and the order of the original values.\n",
    "\n",
    "- We determine each column type by the columns spearman correlation, columns with score of 0.4 and above will be ordinal and columns with score under 0.4 will be nominal. "
   ]
  },
  {
   "cell_type": "code",
   "execution_count": 84,
   "id": "2648fa30",
   "metadata": {},
   "outputs": [],
   "source": [
    "def find_numeric_columns_to_check(df, nunique_th):\n",
    "    numeric_df = df.select_dtypes(include=[np.number])\n",
    "    under_th_df = numeric_df.loc[:, numeric_df.nunique() < nunique_th]\n",
    "    only_int_df = under_th_df.loc[:, (under_th_df.fillna(-9999) % 1 == 0).all()]\n",
    "    more_than_two_values = only_int_df.loc[:, only_int_df.nunique() > 2]\n",
    "    return list(more_than_two_values.columns)\n",
    "\n",
    "def get_dummies(columns, data):\n",
    "    dummies = {}\n",
    "    for column in columns:\n",
    "        dummy_variable = pd.get_dummies(data[column])\n",
    "        prefix = f\"{column}_\"\n",
    "        dummy_variable = dummy_variable.add_prefix(prefix)\n",
    "        dummies[column] = dummy_variable\n",
    "        data[dummy_variable.columns] = dummy_variable\n",
    "    return dummies\n",
    "\n",
    "def train_lr_model(X, y):\n",
    "    model = LinearRegression().fit(X, y)\n",
    "    coefs = model.coef_\n",
    "    return coefs"
   ]
  },
  {
   "cell_type": "code",
   "execution_count": 85,
   "id": "b9c06989",
   "metadata": {},
   "outputs": [],
   "source": [
    "def main(data, target):\n",
    "    columns_to_check = find_numeric_columns_to_check(data, 50)\n",
    "    data = data.dropna()\n",
    "    y = data[target]\n",
    "    dummies = get_dummies(columns_to_check, data)\n",
    "    \n",
    "    for col_name in dummies:\n",
    "        coefs = train_lr_model(dummies[col_name], y)\n",
    "        original_column = data[col_name]\n",
    "        order = sorted(original_column.unique())\n",
    "        corr, _ = pearsonr(order, coefs)\n",
    "        if abs(corr) >= 0.4:\n",
    "            print(f\"spearman r: {round(corr,2)}, {col_name} is Ordinal\")\n",
    "        else:\n",
    "            print(f\"spearman r: {round(corr,2)}, {col_name} is Nominal\")"
   ]
  },
  {
   "cell_type": "code",
   "execution_count": 86,
   "id": "78057e09",
   "metadata": {},
   "outputs": [],
   "source": [
    "data_folder = \"../datasets/converted_datasets\""
   ]
  },
  {
   "cell_type": "markdown",
   "id": "6d82b067",
   "metadata": {},
   "source": [
    "# Adult  "
   ]
  },
  {
   "cell_type": "code",
   "execution_count": 87,
   "id": "18791fc3",
   "metadata": {},
   "outputs": [
    {
     "name": "stdout",
     "output_type": "stream",
     "text": [
      "spearman r: 0.77, education is Ordinal\n",
      "spearman r: 0.89, educational-num is Ordinal\n",
      "spearman r: 0.04, workclass is Nominal\n",
      "spearman r: -0.49, marital-status is Ordinal\n",
      "spearman r: 0.16, occupation is Nominal\n",
      "spearman r: -0.15, native-country is Nominal\n",
      "spearman r: 0.34, relationship is Nominal\n"
     ]
    }
   ],
   "source": [
    "data = pd.read_csv(f'{data_folder}/adult_converted.csv')\n",
    "target = 'income'\n",
    "main(data, target)"
   ]
  },
  {
   "cell_type": "markdown",
   "id": "4a183b5a",
   "metadata": {},
   "source": [
    "# Spotify"
   ]
  },
  {
   "cell_type": "code",
   "execution_count": 88,
   "id": "760f485b",
   "metadata": {},
   "outputs": [
    {
     "name": "stdout",
     "output_type": "stream",
     "text": [
      "spearman r: -0.43, key is Ordinal\n",
      "spearman r: -0.98, time_signature is Ordinal\n",
      "spearman r: 0.1, genre is Nominal\n"
     ]
    }
   ],
   "source": [
    "data = pd.read_csv(f'{data_folder}/spotify_converted.csv', low_memory=False)\n",
    "target = 'mode'\n",
    "main(data, target)"
   ]
  },
  {
   "cell_type": "markdown",
   "id": "0fd5ec88",
   "metadata": {},
   "source": [
    "# Titanic"
   ]
  },
  {
   "cell_type": "code",
   "execution_count": 89,
   "id": "9ed16e79",
   "metadata": {},
   "outputs": [
    {
     "name": "stdout",
     "output_type": "stream",
     "text": [
      "spearman r: -0.4, Year_of_Release is Ordinal\n",
      "spearman r: 0.2, Platform is Nominal\n",
      "spearman r: 0.06, Genre is Nominal\n"
     ]
    }
   ],
   "source": [
    "data = pd.read_csv(f'{data_folder}/video_games_sales_converted.csv')\n",
    "target = 'Global_Sales'\n",
    "main(data, target)"
   ]
  },
  {
   "cell_type": "markdown",
   "id": "cfd4819d",
   "metadata": {},
   "source": [
    "# Video Games"
   ]
  },
  {
   "cell_type": "code",
   "execution_count": 90,
   "id": "b0c89157",
   "metadata": {},
   "outputs": [
    {
     "name": "stdout",
     "output_type": "stream",
     "text": [
      "spearman r: -0.34, Pclass is Nominal\n",
      "spearman r: 0.07, SibSp is Nominal\n",
      "spearman r: -0.78, Parch is Ordinal\n",
      "spearman r: -0.81, Embarked is Ordinal\n"
     ]
    }
   ],
   "source": [
    "data = pd.read_csv(f'{data_folder}/titanic_converted.csv')\n",
    "target = 'Survived'\n",
    "main(data, target)"
   ]
  },
  {
   "cell_type": "markdown",
   "id": "6b7eef4c",
   "metadata": {},
   "source": [
    "# Final Results"
   ]
  },
  {
   "cell_type": "markdown",
   "id": "4f241964",
   "metadata": {},
   "source": [
    "Out of 17 columns, this model successfully calssidfied 13 columns. \\\n",
    "Therefore receives an <b> accuracy score of 12/17 = 0.7 </b>."
   ]
  }
 ],
 "metadata": {
  "kernelspec": {
   "display_name": "Python 3 (ipykernel)",
   "language": "python",
   "name": "python3"
  },
  "language_info": {
   "codemirror_mode": {
    "name": "ipython",
    "version": 3
   },
   "file_extension": ".py",
   "mimetype": "text/x-python",
   "name": "python",
   "nbconvert_exporter": "python",
   "pygments_lexer": "ipython3",
   "version": "3.9.13"
  }
 },
 "nbformat": 4,
 "nbformat_minor": 5
}
