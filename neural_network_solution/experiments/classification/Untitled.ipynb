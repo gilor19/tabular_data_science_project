{
 "cells": [
  {
   "cell_type": "markdown",
   "id": "85927f58",
   "metadata": {},
   "source": [
    "# Neural Network Final Solution Experiments - Classification Tasks"
   ]
  },
  {
   "cell_type": "markdown",
   "id": "b77aaaee",
   "metadata": {},
   "source": [
    "In the following notebook we will test our final solution on the three following datasets with a classification prediction task:\n",
    "1. Adult\n",
    "2. Spotify\n",
    "3. Titanic"
   ]
  },
  {
   "cell_type": "code",
   "execution_count": 1,
   "id": "7220238a",
   "metadata": {},
   "outputs": [],
   "source": [
    "## 1. Adult"
   ]
  },
  {
   "cell_type": "code",
   "execution_count": null,
   "id": "084e6016",
   "metadata": {},
   "outputs": [],
   "source": []
  }
 ],
 "metadata": {
  "kernelspec": {
   "display_name": "Python 3 (ipykernel)",
   "language": "python",
   "name": "python3"
  },
  "language_info": {
   "codemirror_mode": {
    "name": "ipython",
    "version": 3
   },
   "file_extension": ".py",
   "mimetype": "text/x-python",
   "name": "python",
   "nbconvert_exporter": "python",
   "pygments_lexer": "ipython3",
   "version": "3.9.13"
  }
 },
 "nbformat": 4,
 "nbformat_minor": 5
}
