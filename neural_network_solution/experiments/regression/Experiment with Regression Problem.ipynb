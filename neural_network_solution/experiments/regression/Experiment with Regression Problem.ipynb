{
 "cells": [
  {
   "cell_type": "markdown",
   "id": "1bee4d6c",
   "metadata": {},
   "source": [
    "# Experiment with Regression Problem"
   ]
  },
  {
   "cell_type": "markdown",
   "id": "75f57fde",
   "metadata": {},
   "source": [
    "Initially, we intented to create two seperte embedding networks, one for classification tasks and second one for regression tasks. While building our solution, we discovered that the results for the regression tasks framework are not good enough.\n",
    "It might be that the network that we built is not good enough and perhaps different architecture for the network would work better (we tried two different architectures). Another assumption is that the embedding of catagorical columns is not working good with regression tasks.\n",
    "We chose to not further research this point and to convert an input regression task to a classification tak with predicting above/under mean.\n",
    "\n",
    "This notebook presents an example run of the solution with the embedding network as prediction a regression task.\n",
    "The code is taken from /neural_network_solution/experiments/regression/neural_net_for_regression_task.py"
   ]
  },
  {
   "cell_type": "code",
   "execution_count": 3,
   "id": "ec01a498",
   "metadata": {},
   "outputs": [],
   "source": [
    "import warnings\n",
    "warnings.filterwarnings(\"ignore\")\n",
    "import pandas as pd\n",
    "from neural_net_for_regression_task import main"
   ]
  },
  {
   "cell_type": "code",
   "execution_count": 37,
   "id": "c9b06048",
   "metadata": {},
   "outputs": [],
   "source": [
    "data_path = '../../../datasets/converted_datasets/video_games_sales_converted.csv'"
   ]
  },
  {
   "cell_type": "code",
   "execution_count": 39,
   "id": "91047754",
   "metadata": {},
   "outputs": [
    {
     "name": "stdout",
     "output_type": "stream",
     "text": [
      "['Year_of_Release' 'Platform' 'Genre'] have less than 50 unique INT values, therefore they will be checked.\n",
      "Training embedding model start.\n",
      "Epoch 1/10\n",
      "515/515 - 2s - loss: 0.2849 - mse: 0.2849 - 2s/epoch - 3ms/step\n",
      "Epoch 2/10\n",
      "515/515 - 1s - loss: 0.2677 - mse: 0.2677 - 858ms/epoch - 2ms/step\n",
      "Epoch 3/10\n",
      "515/515 - 1s - loss: 0.2676 - mse: 0.2676 - 859ms/epoch - 2ms/step\n",
      "Epoch 4/10\n",
      "515/515 - 1s - loss: 0.2676 - mse: 0.2676 - 861ms/epoch - 2ms/step\n",
      "Epoch 5/10\n",
      "515/515 - 1s - loss: 0.2676 - mse: 0.2676 - 855ms/epoch - 2ms/step\n",
      "Epoch 6/10\n",
      "515/515 - 1s - loss: 0.2676 - mse: 0.2676 - 863ms/epoch - 2ms/step\n",
      "Epoch 7/10\n",
      "515/515 - 1s - loss: 0.2676 - mse: 0.2676 - 861ms/epoch - 2ms/step\n",
      "Epoch 8/10\n",
      "515/515 - 1s - loss: 0.2676 - mse: 0.2676 - 857ms/epoch - 2ms/step\n",
      "Epoch 9/10\n",
      "515/515 - 1s - loss: 0.2676 - mse: 0.2676 - 861ms/epoch - 2ms/step\n",
      "Epoch 10/10\n",
      "515/515 - 1s - loss: 0.2676 - mse: 0.2676 - 862ms/epoch - 2ms/step\n",
      "Training embedding model end.\n",
      "\n",
      "For the 'Year_of_Release' column, Spearman correlation score of the original values space and the embedding space is 0.3310284094220632.\n",
      "This means 'Year_of_Release' column is nominal, you should use one hot encoding.\n",
      "\n",
      "For the 'Platform' column, Spearman correlation score of the original values space and the embedding space is 0.09491616782485036.\n",
      "This means 'Platform' column is nominal, you should use one hot encoding.\n",
      "\n",
      "For the 'Genre' column, Spearman correlation score of the original values space and the embedding space is 0.23251999356261915.\n",
      "This means 'Genre' column is nominal, you should use one hot encoding.\n"
     ]
    }
   ],
   "source": [
    "warnings.filterwarnings(\"ignore\")\n",
    "main(data_path, 'Global_Sales')"
   ]
  },
  {
   "cell_type": "code",
   "execution_count": null,
   "id": "05cc9be6",
   "metadata": {},
   "outputs": [],
   "source": []
  }
 ],
 "metadata": {
  "kernelspec": {
   "display_name": "Python 3 (ipykernel)",
   "language": "python",
   "name": "python3"
  },
  "language_info": {
   "codemirror_mode": {
    "name": "ipython",
    "version": 3
   },
   "file_extension": ".py",
   "mimetype": "text/x-python",
   "name": "python",
   "nbconvert_exporter": "python",
   "pygments_lexer": "ipython3",
   "version": "3.9.13"
  }
 },
 "nbformat": 4,
 "nbformat_minor": 5
}
